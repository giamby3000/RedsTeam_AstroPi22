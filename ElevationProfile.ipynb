{
 "cells": [
  {
   "cell_type": "code",
   "execution_count": null,
   "id": "30f87fda",
   "metadata": {},
   "outputs": [],
   "source": [
    "In this notebook we extract the Skyfield data for the ISS elevation and we calculate the mean value, \n",
    "the min and max values."
   ]
  },
  {
   "cell_type": "code",
   "execution_count": 4,
   "id": "e9a1d62d",
   "metadata": {},
   "outputs": [
    {
     "name": "stdout",
     "output_type": "stream",
     "text": [
      "Mean value ISS Altitude in Km: 422.8206755914353\n",
      "Min value ISS Altitude in Km: 413.2753970812609\n",
      "Max value ISS Altitude in Km: 436.3308272204026\n"
     ]
    }
   ],
   "source": [
    "import pandas as pd\n",
    "import matplotlib.pyplot as plt\n",
    "from matplotlib import pyplot\n",
    "\n",
    "#prova[['Date/time','Total g']]\n",
    "prova = pd.read_csv('HeaderLog.csv')\n",
    "\n",
    "meanValue = prova['Elevation (Km)'].mean()\n",
    "maxValue = prova['Elevation (Km)'].max()\n",
    "minValue = prova['Elevation (Km)'].min()\n",
    "print(\"Mean value ISS Altitude in Km:\", meanValue)\n",
    "print(\"Min value ISS Altitude in Km:\",minValue)\n",
    "print(\"Max value ISS Altitude in Km:\",maxValue)"
   ]
  }
 ],
 "metadata": {
  "kernelspec": {
   "display_name": "Python 3 (ipykernel)",
   "language": "python",
   "name": "python3"
  },
  "language_info": {
   "codemirror_mode": {
    "name": "ipython",
    "version": 3
   },
   "file_extension": ".py",
   "mimetype": "text/x-python",
   "name": "python",
   "nbconvert_exporter": "python",
   "pygments_lexer": "ipython3",
   "version": "3.8.10"
  }
 },
 "nbformat": 4,
 "nbformat_minor": 5
}
